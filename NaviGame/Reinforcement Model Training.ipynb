{
 "cells": [
  {
   "cell_type": "code",
   "execution_count": 1,
   "metadata": {},
   "outputs": [
    {
     "name": "stderr",
     "output_type": "stream",
     "text": [
      "Using Theano backend.\n"
     ]
    }
   ],
   "source": [
    "from reinforcement_training import *\n",
    "from notebook_game_helper import *"
   ]
  },
  {
   "cell_type": "code",
   "execution_count": 2,
   "metadata": {
    "scrolled": false
   },
   "outputs": [
    {
     "name": "stderr",
     "output_type": "stream",
     "text": [
      "Episode 249, Wins: 157, Replay Loss: 9.4378: 100%|██████████| 250/250 [03:24<00:00,  1.28it/s] \n"
     ]
    }
   ],
   "source": [
    "model0, log = main(training_game_size = 8, training_episodes = 250, steps = 50)"
   ]
  },
  {
   "cell_type": "code",
   "execution_count": null,
   "metadata": {
    "collapsed": true
   },
   "outputs": [],
   "source": [
    "val_game = NeuralNaviGame(8, 8, model = model0)"
   ]
  },
  {
   "cell_type": "code",
   "execution_count": null,
   "metadata": {
    "collapsed": true
   },
   "outputs": [],
   "source": [
    "val_game.setup()"
   ]
  },
  {
   "cell_type": "code",
   "execution_count": null,
   "metadata": {},
   "outputs": [],
   "source": [
    "animate_game(val_game, n = 10)"
   ]
  },
  {
   "cell_type": "code",
   "execution_count": null,
   "metadata": {
    "collapsed": true
   },
   "outputs": [],
   "source": [
    "val_game.shift_goal()"
   ]
  },
  {
   "cell_type": "code",
   "execution_count": null,
   "metadata": {},
   "outputs": [],
   "source": [
    "f, axarr = pl.subplots(2, 2)\n",
    "# f.title(\"RL Loss, 100 eps w/ 50 steps, Look: 20\")\n",
    "x = np.linspace(0, len(log[0]), len(log[0]))\n",
    "axarr[0, 0].plot(x, np.log(log[0]))\n",
    "axarr[0, 0].set_title('Log Total Loss')\n",
    "axarr[0, 1].plot(x, log[0])\n",
    "axarr[0, 1].set_title('Total Loss')\n",
    "axarr[1, 0].plot(x, np.log(log[1]))\n",
    "axarr[1, 0].set_title('Log Replay Loss')\n",
    "axarr[1, 1].plot(x, log[1])\n",
    "axarr[1, 1].set_title('Replay Loss')\n",
    "f.subplots_adjust(hspace=0.5)\n",
    "\n",
    "pl.plot()\n",
    "pl.savefig(\"notes/rl_curve_x.png\")\n",
    "pl.show()"
   ]
  },
  {
   "cell_type": "code",
   "execution_count": null,
   "metadata": {},
   "outputs": [],
   "source": [
    "len(log[0]) == len(log[1])"
   ]
  },
  {
   "cell_type": "code",
   "execution_count": null,
   "metadata": {
    "collapsed": true
   },
   "outputs": [],
   "source": []
  }
 ],
 "metadata": {
  "kernelspec": {
   "display_name": "Python 3",
   "language": "python",
   "name": "python3"
  },
  "language_info": {
   "codemirror_mode": {
    "name": "ipython",
    "version": 3
   },
   "file_extension": ".py",
   "mimetype": "text/x-python",
   "name": "python",
   "nbconvert_exporter": "python",
   "pygments_lexer": "ipython3",
   "version": "3.6.1"
  }
 },
 "nbformat": 4,
 "nbformat_minor": 2
}
