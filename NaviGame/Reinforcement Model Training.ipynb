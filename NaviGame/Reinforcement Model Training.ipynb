{
 "cells": [
  {
   "cell_type": "code",
   "execution_count": 1,
   "metadata": {},
   "outputs": [
    {
     "name": "stderr",
     "output_type": "stream",
     "text": [
      "Using Theano backend.\n"
     ]
    }
   ],
   "source": [
    "from reinforcement_training import *\n",
    "from notebook_game_helper import *"
   ]
  },
  {
   "cell_type": "code",
   "execution_count": 10,
   "metadata": {},
   "outputs": [
    {
     "name": "stderr",
     "output_type": "stream",
     "text": [
      "Episode 9, Wins: 1, Replay Loss: 483.57: 100%|██████████| 10/10 [00:14<00:00,  1.42s/it]\n"
     ]
    }
   ],
   "source": [
    "# lets train a DQN model!\n",
    "training_game_size = 10\n",
    "training_episodes = 10\n",
    "steps = 100\n",
    "# make the model\n",
    "hiddens = [{\"size\":50,\"activation\":\"relu\"}]\n",
    "#             {\"size\":20,\"activation\":\"relu\"},\n",
    "#             {\"size\":20,\"activation\":\"relu\"}]\n",
    "# note: AdaGrad and RMSProp are both available!\n",
    "optimizer0 = sgd(lr = 0.0001)\n",
    "optimizer1 = Adagrad(lr=0.01, epsilon=1e-08, decay=0.0)\n",
    "optimizer2 = RMSprop(lr=0.001, rho=0.9, epsilon=1e-08, decay=0.0)\n",
    "model = baseline_model(optimizer2, hiddens)\n",
    "\n",
    "# prepare the game for training model\n",
    "training_game = NeuralNaviGame(training_game_size,\n",
    "                                training_game_size,\n",
    "                                model,\n",
    "                                model_type = \"reinforcement\")\n",
    "training_game.setup()\n",
    "\n",
    "# train the model\n",
    "log = train_model(game = training_game,\n",
    "                model = model,\n",
    "                episodes = training_episodes,\n",
    "                steps = steps)"
   ]
  },
  {
   "cell_type": "code",
   "execution_count": 11,
   "metadata": {
    "scrolled": false
   },
   "outputs": [
    {
     "data": {
      "image/png": "[encoded data removed]",
      "text/plain": [
       "<matplotlib.figure.Figure at 0x11a2614a8>"
      ]
     },
     "metadata": {},
     "output_type": "display_data"
    }
   ],
   "source": [
    "# plot learning info\n",
    "f, axarr = pl.subplots(2, 2)\n",
    "f.canvas.set_window_title(\"RL Loss, 100 eps w/ 50 steps, Look: 20\")\n",
    "x = np.linspace(0, len(log[0]), len(log[0]))\n",
    "axarr[0, 0].plot(x, np.log(log[0]))\n",
    "axarr[0, 0].set_title('Log Total Loss')\n",
    "axarr[0, 1].plot(x, log[0])\n",
    "axarr[0, 1].set_title('Total Loss')\n",
    "axarr[1, 0].plot(x, np.log(log[1]))\n",
    "axarr[1, 0].set_title('Log Replay Loss')\n",
    "axarr[1, 1].plot(x, log[1])\n",
    "axarr[1, 1].set_title('Replay Loss')\n",
    "f.subplots_adjust(hspace=0.5)\n",
    "\n",
    "pl.plot()\n",
    "pl.savefig(\"rl_curve_x.png\")\n",
    "pl.show()"
   ]
  },
  {
   "cell_type": "code",
   "execution_count": null,
   "metadata": {
    "collapsed": true
   },
   "outputs": [],
   "source": [
    "val_game = NeuralNaviGame(8, 8, model = model0)"
   ]
  },
  {
   "cell_type": "code",
   "execution_count": null,
   "metadata": {
    "collapsed": true
   },
   "outputs": [],
   "source": [
    "val_game.setup()"
   ]
  },
  {
   "cell_type": "code",
   "execution_count": null,
   "metadata": {},
   "outputs": [],
   "source": [
    "animate_game(val_game, n = 10)"
   ]
  },
  {
   "cell_type": "code",
   "execution_count": null,
   "metadata": {
    "collapsed": true
   },
   "outputs": [],
   "source": [
    "val_game.shift_goal()"
   ]
  }
 ],
 "metadata": {
  "kernelspec": {
   "display_name": "Python 3",
   "language": "python",
   "name": "python3"
  },
  "language_info": {
   "codemirror_mode": {
    "name": "ipython",
    "version": 3
   },
   "file_extension": ".py",
   "mimetype": "text/x-python",
   "name": "python",
   "nbconvert_exporter": "python",
   "pygments_lexer": "ipython3",
   "version": "3.6.1"
  }
 },
 "nbformat": 4,
 "nbformat_minor": 2
}
