{
 "cells": [
  {
   "cell_type": "code",
   "execution_count": 1,
   "metadata": {
    "scrolled": true
   },
   "outputs": [
    {
     "name": "stderr",
     "output_type": "stream",
     "text": [
      "Using Theano backend.\n"
     ]
    }
   ],
   "source": [
    "from reinforcement_training import *\n",
    "from notebook_game_helper import *"
   ]
  },
  {
   "cell_type": "code",
   "execution_count": 2,
   "metadata": {
    "collapsed": true
   },
   "outputs": [],
   "source": [
    "# lets train a DQN model!\n",
    "# make the model\n",
    "hiddens = [{\"size\":500,\"activation\":\"relu\"},\n",
    "           {\"size\":20,\"activation\":\"relu\"}]\n",
    "#            {\"size\":100,\"activation\":\"relu\"},\n",
    "#           {\"size\":100,\"activation\":\"relu\"}]\n",
    "# make an optimizer\n",
    "from keras.optimizers import sgd, RMSprop, Adagrad, Adadelta, Adam\n",
    "# note to self: DON'T CHANGE THIS UNTIL YOU KNOW WE'RE LEARNING SOMETHING\n",
    "# optimizer = sgd(lr = 0.0001)\n",
    "# optimizer_str = \"SGD\"\n",
    "# optimizer = Adagrad()\n",
    "# optimizer_str = \"Adagrad\"\n",
    "# optimizer = RMSprop()\n",
    "# optimizer_str = \"RMSprop\"\n",
    "# optimizer = Adadelta()\n",
    "# optimizer_str = \"Adadelta\"\n",
    "optimizer = Adam()\n",
    "optimizer_str = \"Adam\"\n",
    "model = baseline_model(optimizer, hiddens, ipt_mode = 3)"
   ]
  },
  {
   "cell_type": "code",
   "execution_count": 3,
   "metadata": {},
   "outputs": [
    {
     "name": "stdout",
     "output_type": "stream",
     "text": [
      "> /Users/squalor/Documents/DSi Repos/capstone repos/Python.Swarms/navi_game.py(43)setup()\n",
      "-> self.Flag.strategy.placeIt(y = self.goal[0], x = self.goal[1])\n",
      "(Pdb) c\n"
     ]
    }
   ],
   "source": [
    "training_game_size_x = 40\n",
    "training_game_size_y = 30\n",
    "\n",
    "training_game = HybridNaviGame(training_game_size_y,\n",
    "                                training_game_size_x,\n",
    "                                model,\n",
    "                                tolerance = 5)\n",
    "training_game.setup()"
   ]
  },
  {
   "cell_type": "code",
   "execution_count": 4,
   "metadata": {
    "collapsed": true
   },
   "outputs": [],
   "source": [
    "training_game.Navigator.strategy.mode = 3"
   ]
  },
  {
   "cell_type": "code",
   "execution_count": null,
   "metadata": {},
   "outputs": [
    {
     "name": "stderr",
     "output_type": "stream",
     "text": [
      "Episode 470, Replay Loss: 0.128:  47%|████▋     | 471/1000 [04:28<05:15,  1.67it/s]   "
     ]
    }
   ],
   "source": [
    "training_episodes = 1000\n",
    "steps = 25\n",
    "# train the model\n",
    "output = train_model(game = training_game,\n",
    "                model = model,\n",
    "                episodes = training_episodes,\n",
    "                steps = steps,\n",
    "                e_start = .9,\n",
    "                e_stop = .5)"
   ]
  },
  {
   "cell_type": "code",
   "execution_count": null,
   "metadata": {
    "scrolled": false
   },
   "outputs": [],
   "source": [
    "# plot learning info\n",
    "title_str = str(training_game_size_y) + \"x\" + str(training_game_size_x) + \" with \" \n",
    "title_str += str(training_episodes) + \" episodes, \" + str(steps) + \" steps per episode, & \"\n",
    "title_str += str(len(hiddens)) + \" hidden layers, optimized with \" + optimizer_str + \"\\n\"\n",
    "f, axarr = pl.subplots(3, 1, figsize = (10, 15), dpi = 300)\n",
    "\n",
    "for _, k in enumerate([10, 50, 250]):\n",
    "    mean_step = k\n",
    "    mean_rewards = []\n",
    "    mean_dists = []\n",
    "    mean_loss = []\n",
    "    num_means = int(len(output['distances'])/mean_step/steps)\n",
    "    steps_per_mean = steps*mean_step\n",
    "    x = np.linspace(0, training_episodes, num_means)\n",
    "    for i in range(num_means):\n",
    "        mean_r = 0\n",
    "        mean_d = 0\n",
    "        mean_l = 0\n",
    "        for j in range(steps_per_mean):\n",
    "            mean_r += output['rewards'][j + i * steps_per_mean]\n",
    "            mean_d += output['distances'][j + i * steps_per_mean]\n",
    "            mean_l += output['loss'][j + i * steps_per_mean]\n",
    "        mean_r = mean_r / steps_per_mean\n",
    "        mean_d = mean_d / steps_per_mean\n",
    "        mean_l = mean_l / steps_per_mean\n",
    "        mean_rewards.append(mean_r)\n",
    "        mean_dists.append(mean_d)\n",
    "        mean_loss.append(mean_l)\n",
    "    label = str(mean_step) + \" Episodes\"\n",
    "    axarr[0].plot(x, mean_loss, label = label)\n",
    "    axarr[1].plot(x, mean_dists, label = label)\n",
    "    axarr[2].plot(x, mean_rewards, label = label)\n",
    "\n",
    "axarr[0].grid(True)\n",
    "axarr[0].set_title(title_str + 'Mean Loss') \n",
    "axarr[1].grid(True)\n",
    "axarr[1].set_title('Mean Distances from Goal')\n",
    "axarr[2].grid(True)\n",
    "axarr[2].set_title('Mean Rewards')\n",
    "f.subplots_adjust(hspace=0.2)\n",
    "\n",
    "# axarr[1].plot(x, output['replays'])\n",
    "# axarr[1].set_title('Replay Loss')\n",
    "# axarr[2].plot(x2, output['reward_totals'])\n",
    "# axarr[2].set_title('Total Reward')\n",
    "# axarr[2].plot(x2, output['distances'])\n",
    "# axarr[2].set_title('Distance from Goal')\n",
    "\n",
    "file_str = str(training_game_size_y) + \"x\" + str(training_game_size_x) + \"_\" \n",
    "file_str += str(training_episodes) + \"_\" + str(steps) + \"_\" + str(len(hiddens))\n",
    "file_str += \"_\" + optimizer_str\n",
    "pl.legend()\n",
    "pl.plot()\n",
    "pl.savefig(\"hybrid_plots\" + \"_wide_\" + file_str + \".png\")\n",
    "pl.show()"
   ]
  },
  {
   "cell_type": "code",
   "execution_count": 33,
   "metadata": {},
   "outputs": [
    {
     "data": {
      "image/png": "[encoded data removed]",
      "text/plain": [
       "<matplotlib.figure.Figure at 0x11fccd9e8>"
      ]
     },
     "metadata": {},
     "output_type": "display_data"
    },
    {
     "data": {
      "text/plain": [
       "None"
      ]
     },
     "metadata": {},
     "output_type": "display_data"
    }
   ],
   "source": [
    "animate_game(training_game, n = 100, save = True)"
   ]
  },
  {
   "cell_type": "code",
   "execution_count": 34,
   "metadata": {
    "collapsed": true
   },
   "outputs": [],
   "source": [
    "model.save(\"guided_rl_model_wide.h5\")"
   ]
  },
  {
   "cell_type": "code",
   "execution_count": null,
   "metadata": {
    "collapsed": true
   },
   "outputs": [],
   "source": [
    "training_game.Navigator.move(7, 7, False)"
   ]
  },
  {
   "cell_type": "code",
   "execution_count": null,
   "metadata": {
    "collapsed": true
   },
   "outputs": [],
   "source": [
    "from os import listdir\n",
    "from os.path import isfile, join\n",
    "mypath = \"images/\"\n",
    "filenames = [join(mypath, f) for f in listdir(mypath) if isfile(join(mypath, f))]\n",
    "\n",
    "import imageio\n",
    "images = []\n",
    "for filename in filenames[1:]:\n",
    "    images.append(imageio.imread(filename))\n",
    "imageio.mimsave('images/gifs/trained_guided_rl_3.gif', images)"
   ]
  },
  {
   "cell_type": "code",
   "execution_count": null,
   "metadata": {
    "collapsed": true
   },
   "outputs": [],
   "source": []
  }
 ],
 "metadata": {
  "kernelspec": {
   "display_name": "Python 3",
   "language": "python",
   "name": "python3"
  },
  "language_info": {
   "codemirror_mode": {
    "name": "ipython",
    "version": 3
   },
   "file_extension": ".py",
   "mimetype": "text/x-python",
   "name": "python",
   "nbconvert_exporter": "python",
   "pygments_lexer": "ipython3",
   "version": "3.6.1"
  }
 },
 "nbformat": 4,
 "nbformat_minor": 2
}
