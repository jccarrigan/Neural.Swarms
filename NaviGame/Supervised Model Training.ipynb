{
 "cells": [
  {
   "cell_type": "code",
   "execution_count": 6,
   "metadata": {},
   "outputs": [],
   "source": [
    "from supervised_training import *"
   ]
  },
  {
   "cell_type": "code",
   "execution_count": 12,
   "metadata": {},
   "outputs": [
    {
     "name": "stdout",
     "output_type": "stream",
     "text": [
      "Generating training data\n",
      "Data generated, now fitting network\n",
      "Epoch 1/10\n",
      "1009/1009 [==============================] - 0s - loss: 0.1734     \n",
      "Epoch 2/10\n",
      "1009/1009 [==============================] - 0s - loss: 0.1468     \n",
      "Epoch 3/10\n",
      "1009/1009 [==============================] - 0s - loss: 0.1385     \n",
      "Epoch 4/10\n",
      "1009/1009 [==============================] - 0s - loss: 0.1305     \n",
      "Epoch 5/10\n",
      "1009/1009 [==============================] - 0s - loss: 0.1262     \n",
      "Epoch 6/10\n",
      "1009/1009 [==============================] - 0s - loss: 0.1233     - ETA: 0s - loss: 0\n",
      "Epoch 7/10\n",
      "1009/1009 [==============================] - 0s - loss: 0.1171     \n",
      "Epoch 8/10\n",
      "1009/1009 [==============================] - 0s - loss: 0.1054     \n",
      "Epoch 9/10\n",
      "1009/1009 [==============================] - 0s - loss: 0.0890     \n",
      "Epoch 10/10\n",
      "1009/1009 [==============================] - 0s - loss: 0.0802     \n",
      "Network and final validation data ready for testing.\n"
     ]
    }
   ],
   "source": [
    "model = main(epochs = 10,\n",
    "        batch_size = 1,\n",
    "        learning_rate = 0.05,\n",
    "        steps = 1000,\n",
    "        training_game_size = 8)"
   ]
  },
  {
   "cell_type": "code",
   "execution_count": 13,
   "metadata": {},
   "outputs": [],
   "source": [
    "val_game = NeuralNaviGame(8, 8, model = model, model_type = \"supervised\")"
   ]
  },
  {
   "cell_type": "code",
   "execution_count": 14,
   "metadata": {
    "collapsed": true
   },
   "outputs": [],
   "source": [
    "val_game.setup()"
   ]
  },
  {
   "cell_type": "code",
   "execution_count": 15,
   "metadata": {},
   "outputs": [
    {
     "data": {
      "image/png": "[encoded data removed]",
      "text/plain": [
       "<matplotlib.figure.Figure at 0x121f64400>"
      ]
     },
     "metadata": {},
     "output_type": "display_data"
    },
    {
     "data": {
      "text/plain": [
       "None"
      ]
     },
     "metadata": {},
     "output_type": "display_data"
    }
   ],
   "source": [
    "animate_game(val_game, n = 10)"
   ]
  },
  {
   "cell_type": "code",
   "execution_count": null,
   "metadata": {
    "collapsed": true
   },
   "outputs": [],
   "source": []
  }
 ],
 "metadata": {
  "kernelspec": {
   "display_name": "Python 3",
   "language": "python",
   "name": "python3"
  },
  "language_info": {
   "codemirror_mode": {
    "name": "ipython",
    "version": 3
   },
   "file_extension": ".py",
   "mimetype": "text/x-python",
   "name": "python",
   "nbconvert_exporter": "python",
   "pygments_lexer": "ipython3",
   "version": "3.6.1"
  }
 },
 "nbformat": 4,
 "nbformat_minor": 2
}
