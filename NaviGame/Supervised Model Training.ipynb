{
 "cells": [
  {
   "cell_type": "code",
   "execution_count": 2,
   "metadata": {},
   "outputs": [
    {
     "name": "stderr",
     "output_type": "stream",
     "text": [
      "Using Theano backend.\n"
     ]
    }
   ],
   "source": [
    "from supervised_training import *"
   ]
  },
  {
   "cell_type": "code",
   "execution_count": 8,
   "metadata": {},
   "outputs": [
    {
     "name": "stdout",
     "output_type": "stream",
     "text": [
      "Generating training data\n",
      "Data generated, now fitting network\n",
      "Epoch 1/10\n",
      "1004/1004 [==============================] - 0s - loss: 0.2316     \n",
      "Epoch 2/10\n",
      "1004/1004 [==============================] - 0s - loss: 0.1749     \n",
      "Epoch 3/10\n",
      "1004/1004 [==============================] - 0s - loss: 0.1635     \n",
      "Epoch 4/10\n",
      "1004/1004 [==============================] - 0s - loss: 0.1590     \n",
      "Epoch 5/10\n",
      "1004/1004 [==============================] - 0s - loss: 0.1567     \n",
      "Epoch 6/10\n",
      "1004/1004 [==============================] - 0s - loss: 0.1550     \n",
      "Epoch 7/10\n",
      "1004/1004 [==============================] - 0s - loss: 0.1534     \n",
      "Epoch 8/10\n",
      "1004/1004 [==============================] - 0s - loss: 0.1516     \n",
      "Epoch 9/10\n",
      "1004/1004 [==============================] - 0s - loss: 0.1493     \n",
      "Epoch 10/10\n",
      "1004/1004 [==============================] - 0s - loss: 0.1468     \n",
      "Network and final validation data ready for testing.\n"
     ]
    }
   ],
   "source": [
    "# game variables\n",
    "epochs = 10\n",
    "batch_size = 10\n",
    "learning_rate = 0.05\n",
    "steps = 1000\n",
    "training_game_size = 8\n",
    "\n",
    "# layers\n",
    "layers = [{\"size\":5,\"activation\":\"tanh\"},\n",
    "            {\"size\":5,\"activation\":\"tanh\"}]\n",
    "\n",
    "# number of epochs for training\n",
    "epochs = epochs\n",
    "batch_size = batch_size\n",
    "\n",
    "# learning rate\n",
    "learning_rate = learning_rate\n",
    "\n",
    "# number of steps to take\n",
    "steps = steps\n",
    "\n",
    "# optimizer\n",
    "optimizer = sgd(lr=learning_rate)\n",
    "optimizer_str = \"SGD(lr = \"+str(learning_rate)+\")\"\n",
    "# make the model\n",
    "model = baseline_model(optimizer, layers)\n",
    "\n",
    "# prepare the game for collecting data\n",
    "# this has no model, so it uses the \"perfect\" strategy defined within\n",
    "test_game = NaviGame(training_game_size,\n",
    "                    training_game_size,\n",
    "                    moving_target = True)\n",
    "test_game.setup()\n",
    "\n",
    "print(\"Generating training data\")\n",
    "# collect all data to make pickled runs!\n",
    "# stop regenerating the damn data!\n",
    "log, inputs, targets = train_model(\n",
    "            navi_game = test_game,\n",
    "            model = model,\n",
    "            steps = steps,\n",
    "            epochs = epochs,\n",
    "            batch_size = batch_size,\n",
    "            verbose = 1,\n",
    "            all_data = True)\n",
    "# pull data points of for validation\n",
    "print(\"Network and final validation data ready for testing.\")\n",
    "    # prepare the game for final validation\n"
   ]
  },
  {
   "cell_type": "code",
   "execution_count": 9,
   "metadata": {
    "collapsed": true
   },
   "outputs": [],
   "source": [
    "val_game = NeuralNaviGame(8, 8, model = model, model_type = \"supervised\")"
   ]
  },
  {
   "cell_type": "code",
   "execution_count": 10,
   "metadata": {
    "collapsed": true
   },
   "outputs": [],
   "source": [
    "val_game.setup()"
   ]
  },
  {
   "cell_type": "code",
   "execution_count": 12,
   "metadata": {},
   "outputs": [
    {
     "data": {
      "image/png": "[encoded data removed]",
      "text/plain": [
       "<matplotlib.figure.Figure at 0x111284be0>"
      ]
     },
     "metadata": {},
     "output_type": "display_data"
    },
    {
     "data": {
      "text/plain": [
       "None"
      ]
     },
     "metadata": {},
     "output_type": "display_data"
    }
   ],
   "source": [
    "animate_game(val_game, n = 10)"
   ]
  },
  {
   "cell_type": "code",
   "execution_count": null,
   "metadata": {
    "collapsed": true
   },
   "outputs": [],
   "source": []
  }
 ],
 "metadata": {
  "kernelspec": {
   "display_name": "Python 3",
   "language": "python",
   "name": "python3"
  },
  "language_info": {
   "codemirror_mode": {
    "name": "ipython",
    "version": 3
   },
   "file_extension": ".py",
   "mimetype": "text/x-python",
   "name": "python",
   "nbconvert_exporter": "python",
   "pygments_lexer": "ipython3",
   "version": "3.6.1"
  }
 },
 "nbformat": 4,
 "nbformat_minor": 2
}
