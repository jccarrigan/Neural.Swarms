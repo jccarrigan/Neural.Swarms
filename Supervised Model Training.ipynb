{
 "cells": [
  {
   "cell_type": "code",
   "execution_count": 8,
   "metadata": {},
   "outputs": [],
   "source": [
    "from supervised_navigame_model import *"
   ]
  },
  {
   "cell_type": "code",
   "execution_count": 14,
   "metadata": {},
   "outputs": [
    {
     "name": "stdout",
     "output_type": "stream",
     "text": [
      "Generating training data\n",
      "Data generated, now fitting network\n",
      "Epoch 1/10\n",
      "109/109 [==============================] - 0s - loss: 0.2350     \n",
      "Epoch 2/10\n",
      "109/109 [==============================] - 0s - loss: 0.1866     \n",
      "Epoch 3/10\n",
      "109/109 [==============================] - 0s - loss: 0.1715     \n",
      "Epoch 4/10\n",
      "109/109 [==============================] - 0s - loss: 0.1651     \n",
      "Epoch 5/10\n",
      "109/109 [==============================] - 0s - loss: 0.1618     \n",
      "Epoch 6/10\n",
      "109/109 [==============================] - 0s - loss: 0.1596     \n",
      "Epoch 7/10\n",
      "109/109 [==============================] - 0s - loss: 0.1581     \n",
      "Epoch 8/10\n",
      "109/109 [==============================] - 0s - loss: 0.1571     \n",
      "Epoch 9/10\n",
      "109/109 [==============================] - 0s - loss: 0.1564     \n",
      "Epoch 10/10\n",
      "109/109 [==============================] - 0s - loss: 0.1559     \n",
      "Network and final validation data ready for testing.\n"
     ]
    }
   ],
   "source": [
    "model = main(epochs = 10,\n",
    "        batch_size = 1,\n",
    "        learning_rate = 0.05,\n",
    "        steps = 100,\n",
    "        training_game_size = 8)"
   ]
  },
  {
   "cell_type": "code",
   "execution_count": 15,
   "metadata": {},
   "outputs": [],
   "source": [
    "val_game = NeuralNaviGame(8, 8, model = model, moving_target = True)"
   ]
  },
  {
   "cell_type": "code",
   "execution_count": 16,
   "metadata": {
    "collapsed": true
   },
   "outputs": [],
   "source": [
    "val_game.setup()"
   ]
  },
  {
   "cell_type": "code",
   "execution_count": 17,
   "metadata": {},
   "outputs": [
    {
     "data": {
      "image/png": "[encoded data removed]",
      "text/plain": [
       "<matplotlib.figure.Figure at 0x11eb2fe48>"
      ]
     },
     "metadata": {},
     "output_type": "display_data"
    },
    {
     "data": {
      "text/plain": [
       "None"
      ]
     },
     "metadata": {},
     "output_type": "display_data"
    }
   ],
   "source": [
    "animate_game(val_game, n = 10)"
   ]
  },
  {
   "cell_type": "code",
   "execution_count": 7,
   "metadata": {},
   "outputs": [
    {
     "data": {
      "text/plain": [
       "False"
      ]
     },
     "execution_count": 7,
     "metadata": {},
     "output_type": "execute_result"
    }
   ],
   "source": [
    "val_game.Navigator.strategy.eating"
   ]
  },
  {
   "cell_type": "code",
   "execution_count": null,
   "metadata": {
    "collapsed": true
   },
   "outputs": [],
   "source": [
    "test_game = NeuralNaviGame(8, 8, moving_target = True)"
   ]
  },
  {
   "cell_type": "code",
   "execution_count": null,
   "metadata": {
    "collapsed": true
   },
   "outputs": [],
   "source": [
    "test_game.setup()"
   ]
  },
  {
   "cell_type": "code",
   "execution_count": null,
   "metadata": {},
   "outputs": [],
   "source": [
    "animate_game(test_game, n = 10)"
   ]
  },
  {
   "cell_type": "code",
   "execution_count": null,
   "metadata": {},
   "outputs": [],
   "source": [
    "test_game.Navigator.strategy.eating"
   ]
  },
  {
   "cell_type": "code",
   "execution_count": null,
   "metadata": {
    "collapsed": true
   },
   "outputs": [],
   "source": [
    "test_game.step()"
   ]
  },
  {
   "cell_type": "code",
   "execution_count": null,
   "metadata": {
    "collapsed": true
   },
   "outputs": [],
   "source": []
  }
 ],
 "metadata": {
  "kernelspec": {
   "display_name": "Python 3",
   "language": "python",
   "name": "python3"
  },
  "language_info": {
   "codemirror_mode": {
    "name": "ipython",
    "version": 3
   },
   "file_extension": ".py",
   "mimetype": "text/x-python",
   "name": "python",
   "nbconvert_exporter": "python",
   "pygments_lexer": "ipython3",
   "version": "3.6.1"
  }
 },
 "nbformat": 4,
 "nbformat_minor": 2
}
