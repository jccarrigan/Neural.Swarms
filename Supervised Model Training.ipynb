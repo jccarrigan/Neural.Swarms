{
 "cells": [
  {
   "cell_type": "code",
   "execution_count": 10,
   "metadata": {},
   "outputs": [],
   "source": [
    "from supervised_game_model import *"
   ]
  },
  {
   "cell_type": "code",
   "execution_count": 11,
   "metadata": {},
   "outputs": [],
   "source": [
    "def main():\n",
    "    # layers\n",
    "    layers = [{\"size\":5,\"activation\":\"tanh\"},\n",
    "                {\"size\":5,\"activation\":\"tanh\"}]\n",
    "\n",
    "    # number of epochs for training\n",
    "    epochs = 10\n",
    "    batch_size = 1\n",
    "\n",
    "    # learning rate\n",
    "    learning_rate = 0.05\n",
    "    # optimizer\n",
    "    optimizer = sgd(lr=learning_rate)\n",
    "    optimizer_str = \"SGD(lr = \"+str(learning_rate)+\")\"\n",
    "    # make the model\n",
    "    model = baseline_model(optimizer, layers)\n",
    "\n",
    "    # prepare the game for collecting data\n",
    "    # this has no model, so it uses the \"perfect\" strategy defined within\n",
    "    test_game = NaviGame(8, 8, goal = (3, 3), model = None)\n",
    "    test_game.setup()\n",
    "\n",
    "    # number of steps to take\n",
    "    steps = 100\n",
    "\n",
    "    print(\"Generating training data\")\n",
    "    # collect all data to make pickled runs!\n",
    "    # stop regenerating the damn data!\n",
    "    log, inputs, targets = train_model(\n",
    "                navi_game = test_game,\n",
    "                model = model,\n",
    "                steps = steps,\n",
    "                epochs = epochs,\n",
    "                batch_size = batch_size,\n",
    "                verbose = 1,\n",
    "                all_data = True)\n",
    "    # pull data points of for validation\n",
    "    print(\"Network and final validation data ready for testing.\")\n",
    "        # prepare the game for final validation\n",
    "    return model"
   ]
  },
  {
   "cell_type": "code",
   "execution_count": 12,
   "metadata": {},
   "outputs": [
    {
     "name": "stdout",
     "output_type": "stream",
     "text": [
      "Generating training data\n",
      "Data generated, now fitting network\n",
      "Epoch 1/10\n",
      "102/102 [==============================] - 0s - loss: 0.1765     \n",
      "Epoch 2/10\n",
      "102/102 [==============================] - 0s - loss: 0.1538     \n",
      "Epoch 3/10\n",
      "102/102 [==============================] - 0s - loss: 0.1462     \n",
      "Epoch 4/10\n",
      "102/102 [==============================] - 0s - loss: 0.1421     \n",
      "Epoch 5/10\n",
      "102/102 [==============================] - 0s - loss: 0.1396     \n",
      "Epoch 6/10\n",
      "102/102 [==============================] - 0s - loss: 0.1377     \n",
      "Epoch 7/10\n",
      "102/102 [==============================] - 0s - loss: 0.1366     \n",
      "Epoch 8/10\n",
      "102/102 [==============================] - 0s - loss: 0.1352     \n",
      "Epoch 9/10\n",
      "102/102 [==============================] - 0s - loss: 0.1341     \n",
      "Epoch 10/10\n",
      "102/102 [==============================] - 0s - loss: 0.1330     \n",
      "Network and final validation data ready for testing.\n"
     ]
    }
   ],
   "source": [
    "model = main()"
   ]
  },
  {
   "cell_type": "code",
   "execution_count": 13,
   "metadata": {
    "collapsed": true
   },
   "outputs": [],
   "source": [
    "val_game = NaviGame(10, 10, model = model)"
   ]
  },
  {
   "cell_type": "code",
   "execution_count": 14,
   "metadata": {
    "collapsed": true
   },
   "outputs": [],
   "source": [
    "val_game.setup()"
   ]
  },
  {
   "cell_type": "code",
   "execution_count": 15,
   "metadata": {},
   "outputs": [
    {
     "data": {
      "image/png": "[encoded data removed]",
      "text/plain": [
       "<matplotlib.figure.Figure at 0x11f703c50>"
      ]
     },
     "metadata": {},
     "output_type": "display_data"
    },
    {
     "data": {
      "text/plain": [
       "None"
      ]
     },
     "metadata": {},
     "output_type": "display_data"
    }
   ],
   "source": [
    "animate_game(val_game, n = 10)"
   ]
  },
  {
   "cell_type": "code",
   "execution_count": null,
   "metadata": {
    "collapsed": true
   },
   "outputs": [],
   "source": []
  }
 ],
 "metadata": {
  "kernelspec": {
   "display_name": "Python 3",
   "language": "python",
   "name": "python3"
  },
  "language_info": {
   "codemirror_mode": {
    "name": "ipython",
    "version": 3
   },
   "file_extension": ".py",
   "mimetype": "text/x-python",
   "name": "python",
   "nbconvert_exporter": "python",
   "pygments_lexer": "ipython3",
   "version": "3.6.1"
  }
 },
 "nbformat": 4,
 "nbformat_minor": 2
}
