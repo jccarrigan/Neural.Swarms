{
 "cells": [
  {
   "cell_type": "markdown",
   "metadata": {},
   "source": [
    "## Python Swarm of Neural Units\n",
    "**Goal:** develop a swarm intelligence model with agents which\n",
    "1. Can navigate a local space using internal knowledge\n",
    "2. Can update that knowledge using sensor data\n",
    "3. Can navigate a larger space using swarm knowledge"
   ]
  },
  {
   "cell_type": "markdown",
   "metadata": {},
   "source": [
    "**Development Pathways**\n",
    "\n",
    "Acheiving all the goals above involves several interrelated development pathways. \n",
    "1. **Agent** \n",
    "development involves designing and training agents which can perform as desired in simulations.\n",
    "2. **Swarm** \n",
    "development involves testing groups of agents in simulation, and showing how the swarm performs against individual units.\n",
    "3. **Hardware** \n",
    "development entails preparing connectivity functions to collect data from hardware agents (Sphero robotic balls) and passing them into the swarm model for processing. To limit development requirements, the entire hardware swarm will be run virtually on a computer, and commands passed back to individual units. This will simulate each agent having its own intelligence without having to actually design a version of the software that is compatible with Sphero."
   ]
  },
  {
   "cell_type": "markdown",
   "metadata": {},
   "source": [
    "## Development Plan\n",
    "**Simulation Stage**\n",
    "1. Design agent\n",
    "2. Test agent\n",
    "3. Test swarm of agents\n",
    "4. Repeat until goal #3 is acheived\n",
    "\n",
    "**Deployment Stage**\n",
    "1. Modify agent classes until they can communicate over Bluetooth to Sphero robotic balls\n",
    "2. Test swarm of Spheros in basic environments\n",
    "3. Two goals: \n",
    "    -individual navigation \n",
    "    -collective cohesion\n",
    "\n",
    "**Experimentation Stage**\n",
    "- In simulations, design more agent types and test swarms with different compositions\n",
    "- In Sphero Swarm, design more task tests"
   ]
  },
  {
   "cell_type": "markdown",
   "metadata": {},
   "source": [
    "**This Document**\n",
    "\n",
    "This document records my research on swarms of units with neural network intelligence. Style guide\n",
    "1. each experiment description should have a reproducable simulation\n",
    "2. each conclusion should drive into the next experiment\n",
    "3. mathematical formulations should be well-formed\n",
    "4. break up discussion and computational cells\n",
    "5. break discussion cells by paragraph"
   ]
  },
  {
   "cell_type": "markdown",
   "metadata": {},
   "source": [
    "**Swarm Basics**\n",
    "\n",
    "   For development, I focus on simulation. However, I may be able to deploy the project to a small swarm of Sphero robot balls. Deployment may or may not occur depending on how well development goes. I will use <a href=\"https://github.com/zdanowiczkonrad/PythonSphero\">PythonSphero</a> which implements the <a href=\"https://github.com/karol-szuster/kulka\">kulka</a> Sphero API. The swarm simulation is based on basic cellular automata. Rather than following formulated rules, behavior is governed by a neural network. I am using a base swarm class from github user <a href='https://github.com/elmar-hinz/'>elmar-hinz</a> called <a href='https://github.com/elmar-hinz/Python.Swarms'>Python.Swarms</a>. It was developed in Python 2.7 for visualization in a terminal class called curses. So, I have adapted it for Python 3 and display in Jupyter Notebooks. "
   ]
  },
  {
   "cell_type": "markdown",
   "metadata": {},
   "source": [
    "## Experiment 0: Navigation with stationary \"sensors\"\n",
    "- **Agent** Stationary \"sensor\" that can \"see\" a radius r- with the taxicab metric, mobile navigator.\n",
    "- **Quantitiy** 1 neural agent, 1 dumb agent. Since this test will be done with \"perfect\" sensors, no need to train every tower. Only the 'navigator' is trained.\n",
    "- **Training Method** Failed reinforcement on an MLP\n",
    "- **Notes** The pieces all worked together: game backend, neural net, and my visualizations. But, everything got bloated and convoluted (not as in the nn...) so moving on to another experiment.\n",
    "- **File**: `github.com/thetabor/Python.Swarms/swarm_game.py`"
   ]
  },
  {
   "cell_type": "markdown",
   "metadata": {
    "collapsed": true
   },
   "source": [
    "## Experiment: Mapping with stationary \"sensors\"\n",
    "- **Agent** Stationary \"sensor\" that can \"see\" a radius r- with the taxicab metric.\n",
    "- **Quantitiy** 1 neural agaent, n dumb agents. Since this test will be done with \"perfect\" sensors, no need to train every tower. Only the 'navigator' is trained.\n",
    "- **Training Method** Not sure yet, hopefully reinforcement on an RNN."
   ]
  },
  {
   "cell_type": "markdown",
   "metadata": {},
   "source": [
    "## Experiment: Deliberate swarm mapoing "
   ]
  },
  {
   "cell_type": "markdown",
   "metadata": {},
   "source": [
    "## Experiment: Noisy sensor simulations\n",
    "Repeat all of the above with \"noise\" methods implemented for all simulated sensors."
   ]
  },
  {
   "cell_type": "markdown",
   "metadata": {},
   "source": [
    "## Experiment: Coordinated motion, maximize information"
   ]
  }
 ],
 "metadata": {
  "kernelspec": {
   "display_name": "Python 3",
   "language": "python",
   "name": "python3"
  },
  "language_info": {
   "codemirror_mode": {
    "name": "ipython",
    "version": 3
   },
   "file_extension": ".py",
   "mimetype": "text/x-python",
   "name": "python",
   "nbconvert_exporter": "python",
   "pygments_lexer": "ipython3",
   "version": "3.6.1"
  }
 },
 "nbformat": 4,
 "nbformat_minor": 2
}
