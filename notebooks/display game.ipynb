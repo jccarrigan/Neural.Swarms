{
 "cells": [
  {
   "cell_type": "code",
   "execution_count": 1,
   "metadata": {},
   "outputs": [],
   "source": [
    "import pylab as pl\n",
    "import numpy\n",
    "import random\n",
    "import pickle\n",
    "numpy.random.seed(1)\n",
    "random.seed(1)\n",
    "%run notebook_game_helper.py"
   ]
  },
  {
   "cell_type": "code",
   "execution_count": 11,
   "metadata": {
    "scrolled": false
   },
   "outputs": [
    {
     "name": "stdout",
     "output_type": "stream",
     "text": [
      "Generating training data\n",
      "Data generated, now fitting network\n",
      "Epoch 1/20\n",
      "1001/1001 [==============================] - 0s - loss: 0.1390     \n",
      "Epoch 2/20\n",
      "1001/1001 [==============================] - 0s - loss: 0.0998     \n",
      "Epoch 3/20\n",
      "1001/1001 [==============================] - 0s - loss: 0.0765     \n",
      "Epoch 4/20\n",
      "1001/1001 [==============================] - 0s - loss: 0.0622     \n",
      "Epoch 5/20\n",
      "1001/1001 [==============================] - 0s - loss: 0.0515     \n",
      "Epoch 6/20\n",
      "1001/1001 [==============================] - 0s - loss: 0.0460     \n",
      "Epoch 7/20\n",
      "1001/1001 [==============================] - 0s - loss: 0.0399     \n",
      "Epoch 8/20\n",
      "1001/1001 [==============================] - 0s - loss: 0.0368     \n",
      "Epoch 9/20\n",
      "1001/1001 [==============================] - 0s - loss: 0.0330     \n",
      "Epoch 10/20\n",
      "1001/1001 [==============================] - 0s - loss: 0.0304     \n",
      "Epoch 11/20\n",
      "1001/1001 [==============================] - 0s - loss: 0.0281     \n",
      "Epoch 12/20\n",
      "1001/1001 [==============================] - 0s - loss: 0.0271     \n",
      "Epoch 13/20\n",
      "1001/1001 [==============================] - 0s - loss: 0.0250     \n",
      "Epoch 14/20\n",
      "1001/1001 [==============================] - 0s - loss: 0.0251     \n",
      "Epoch 15/20\n",
      "1001/1001 [==============================] - 0s - loss: 0.0217     \n",
      "Epoch 16/20\n",
      "1001/1001 [==============================] - 0s - loss: 0.0197     \n",
      "Epoch 17/20\n",
      "1001/1001 [==============================] - 0s - loss: 0.0190     \n",
      "Epoch 18/20\n",
      "1001/1001 [==============================] - 0s - loss: 0.0163     \n",
      "Epoch 19/20\n",
      "1001/1001 [==============================] - 0s - loss: 0.0170     \n",
      "Epoch 20/20\n",
      "1001/1001 [==============================] - 0s - loss: 0.0137     \n",
      "Network and final validation data ready for testing.\n"
     ]
    }
   ],
   "source": [
    "%run ../game/game_model.py"
   ]
  },
  {
   "cell_type": "code",
   "execution_count": 33,
   "metadata": {},
   "outputs": [
    {
     "data": {
      "image/png": "[encoded data removed]",
      "text/plain": [
       "<matplotlib.figure.Figure at 0x11c4554a8>"
      ]
     },
     "metadata": {},
     "output_type": "display_data"
    },
    {
     "data": {
      "text/plain": [
       "None"
      ]
     },
     "metadata": {},
     "output_type": "display_data"
    }
   ],
   "source": [
    "animate_game(super_boss, n=25, mpl=True)"
   ]
  },
  {
   "cell_type": "code",
   "execution_count": 25,
   "metadata": {},
   "outputs": [],
   "source": [
    "final_boss.shift_goal((7,7))"
   ]
  },
  {
   "cell_type": "code",
   "execution_count": null,
   "metadata": {
    "collapsed": true
   },
   "outputs": [],
   "source": [
    "final_boss.Navigator.move(x=7, y=0, relative=False)"
   ]
  },
  {
   "cell_type": "code",
   "execution_count": null,
   "metadata": {},
   "outputs": [],
   "source": [
    "final_boss.Navigator.strategy.goal"
   ]
  },
  {
   "cell_type": "code",
   "execution_count": 30,
   "metadata": {
    "collapsed": true
   },
   "outputs": [],
   "source": [
    "super_boss = NaviGame(64, 64, goal = (35, 20), model = model)\n",
    "super_boss.setup()"
   ]
  },
  {
   "cell_type": "code",
   "execution_count": 34,
   "metadata": {},
   "outputs": [
    {
     "data": {
      "text/plain": [
       "(35, 20)"
      ]
     },
     "execution_count": 34,
     "metadata": {},
     "output_type": "execute_result"
    }
   ],
   "source": [
    "super_boss.Navigator.strategy.goal"
   ]
  },
  {
   "cell_type": "code",
   "execution_count": null,
   "metadata": {},
   "outputs": [],
   "source": [
    "model_benchmark(model=final_boss.Navigator.strategy.model,\n",
    "           actions=final_boss.Navigator.strategy.actions,\n",
    "           goal=final_boss.goal)\n",
    "#score = model.evaluate(final_inputs, final_targets)\n",
    "# print(\"\\nFinal game loss: \", score)"
   ]
  },
  {
   "cell_type": "code",
   "execution_count": 35,
   "metadata": {},
   "outputs": [],
   "source": [
    "pl_title = '{} steps, {}, {} layer MLP'.format(steps, optimizer_str, len(layers))\n",
    "#pl_title += '\\n Final score: {}'.format(score)\n",
    "pl.plot(np.array(log.history['loss']), label=\"Training loss\")\n",
    "pl.title(pl_title)\n",
    "pl.legend()\n",
    "# pl.title(\"New Training Regime\")\n",
    "pl.savefig(\"plot.png\", dpi=300)\n",
    "pl.close('all')"
   ]
  },
  {
   "cell_type": "code",
   "execution_count": null,
   "metadata": {
    "collapsed": true
   },
   "outputs": [],
   "source": [
    "save = dict()"
   ]
  },
  {
   "cell_type": "code",
   "execution_count": null,
   "metadata": {
    "collapsed": true
   },
   "outputs": [],
   "source": [
    "save['inputs'] = inputs\n",
    "save['targets'] = targets\n",
    "save['model'] = model"
   ]
  },
  {
   "cell_type": "code",
   "execution_count": null,
   "metadata": {
    "collapsed": true
   },
   "outputs": [],
   "source": [
    "pickle.dump(save, open(\"games_256_x_256_steps_on_8x8.p\", \"wb\"))"
   ]
  },
  {
   "cell_type": "code",
   "execution_count": null,
   "metadata": {},
   "outputs": [],
   "source": [
    "for i in range(10):\n",
    "    predict = model.predict(np.array(inputs[i*10]).reshape(1, 4))\n",
    "    print(inputs[i*10], targets[i*10], np.round_(predict, decimals = 2))"
   ]
  },
  {
   "cell_type": "code",
   "execution_count": null,
   "metadata": {},
   "outputs": [],
   "source": [
    "s = 0 \n",
    "while s < 1000:\n",
    "    s += randint(0, 500)\n",
    "    print(s)"
   ]
  },
  {
   "cell_type": "code",
   "execution_count": null,
   "metadata": {
    "collapsed": true
   },
   "outputs": [],
   "source": []
  }
 ],
 "metadata": {
  "kernelspec": {
   "display_name": "Python 3",
   "language": "python",
   "name": "python3"
  },
  "language_info": {
   "codemirror_mode": {
    "name": "ipython",
    "version": 3
   },
   "file_extension": ".py",
   "mimetype": "text/x-python",
   "name": "python",
   "nbconvert_exporter": "python",
   "pygments_lexer": "ipython3",
   "version": "3.6.1"
  }
 },
 "nbformat": 4,
 "nbformat_minor": 2
}
