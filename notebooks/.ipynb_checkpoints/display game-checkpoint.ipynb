{
 "cells": [
  {
   "cell_type": "code",
   "execution_count": 3,
   "metadata": {
    "collapsed": true
   },
   "outputs": [],
   "source": [
    "import pylab as pl\n",
    "import numpy\n",
    "import random\n",
    "import pickle\n",
    "numpy.random.seed(1)\n",
    "random.seed(1)\n",
    "%run notebook_game_helper.py"
   ]
  },
  {
   "cell_type": "code",
   "execution_count": 28,
   "metadata": {
    "scrolled": false
   },
   "outputs": [],
   "source": [
    "%run ../game/navi_game3.py"
   ]
  },
  {
   "cell_type": "code",
   "execution_count": 37,
   "metadata": {},
   "outputs": [
    {
     "data": {
      "image/png": "[encoded data removed]",
      "text/plain": [
       "<matplotlib.figure.Figure at 0x103a8a278>"
      ]
     },
     "metadata": {},
     "output_type": "display_data"
    },
    {
     "data": {
      "text/plain": [
       "None"
      ]
     },
     "metadata": {},
     "output_type": "display_data"
    }
   ],
   "source": [
    "animate_game(test_game, n=10, mpl=True)"
   ]
  },
  {
   "cell_type": "code",
   "execution_count": 36,
   "metadata": {},
   "outputs": [],
   "source": [
    "test_game.shift_goal(3,3)"
   ]
  },
  {
   "cell_type": "code",
   "execution_count": 34,
   "metadata": {},
   "outputs": [],
   "source": [
    "test_game.Navigator.move(x=7, y=0, relative=False)"
   ]
  },
  {
   "cell_type": "code",
   "execution_count": null,
   "metadata": {},
   "outputs": [],
   "source": [
    "test_game.Navigator.goal"
   ]
  },
  {
   "cell_type": "code",
   "execution_count": null,
   "metadata": {
    "collapsed": true
   },
   "outputs": [],
   "source": [
    "model_benchmark(model=final_boss.Navigator.strategy.model,\n",
    "           actions=final_boss.Navigator.strategy.actions,\n",
    "           goal=final_boss.goal)\n",
    "score = model.evaluate(final_inputs, final_targets)\n",
    "print(\"\\nFinal game loss: \", score)"
   ]
  },
  {
   "cell_type": "code",
   "execution_count": null,
   "metadata": {
    "collapsed": true
   },
   "outputs": [],
   "source": [
    "pl_title = '{} games, {} steps each, {}, {} layer MLP'.format(\n",
    "                num_games, steps, optimizer_str, len(layers))\n",
    "pl_title += '\\n Final score: {}'.format(score)\n",
    "pl.plot(np.array(log.history['loss']), label=\"Training loss\")\n",
    "pl.title(pl_title)\n",
    "pl.legend()\n",
    "# pl.title(\"New Training Regime\")\n",
    "pl.savefig(\"plot.png\", dpi=300)\n",
    "pl.close('all')"
   ]
  },
  {
   "cell_type": "code",
   "execution_count": null,
   "metadata": {
    "collapsed": true
   },
   "outputs": [],
   "source": [
    "save = dict()"
   ]
  },
  {
   "cell_type": "code",
   "execution_count": null,
   "metadata": {
    "collapsed": true
   },
   "outputs": [],
   "source": [
    "save['inputs'] = inputs\n",
    "save['targets'] = targets\n",
    "save['model'] = model"
   ]
  },
  {
   "cell_type": "code",
   "execution_count": null,
   "metadata": {
    "collapsed": true
   },
   "outputs": [],
   "source": [
    "pickle.dump(save, open(\"games_256_x_256_steps_on_8x8.p\", \"wb\"))"
   ]
  },
  {
   "cell_type": "code",
   "execution_count": null,
   "metadata": {},
   "outputs": [],
   "source": [
    "for i in range(64):\n",
    "    predict = model.predict(np.array(inputs[i*256]).reshape(1, 4))\n",
    "    print(inputs[i*256], targets[i*256], np.round_(predict, decimals = 2))"
   ]
  }
 ],
 "metadata": {
  "kernelspec": {
   "display_name": "Python 3",
   "language": "python",
   "name": "python3"
  },
  "language_info": {
   "codemirror_mode": {
    "name": "ipython",
    "version": 3
   },
   "file_extension": ".py",
   "mimetype": "text/x-python",
   "name": "python",
   "nbconvert_exporter": "python",
   "pygments_lexer": "ipython3",
   "version": "3.6.1"
  }
 },
 "nbformat": 4,
 "nbformat_minor": 2
}
