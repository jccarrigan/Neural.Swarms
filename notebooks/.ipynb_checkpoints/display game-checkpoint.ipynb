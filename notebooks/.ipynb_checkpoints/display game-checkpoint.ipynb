{
 "cells": [
  {
   "cell_type": "code",
   "execution_count": 3,
   "metadata": {},
   "outputs": [],
   "source": [
    "import pylab as pl\n",
    "import numpy\n",
    "import random\n",
    "import pickle\n",
    "numpy.random.seed(1)\n",
    "random.seed(1)\n",
    "%run notebook_game_helper.py"
   ]
  },
  {
   "cell_type": "code",
   "execution_count": 54,
   "metadata": {
    "scrolled": false
   },
   "outputs": [
    {
     "name": "stdout",
     "output_type": "stream",
     "text": [
      "Generating training data\n",
      "Data generated, now fitting network\n",
      "Epoch 1/20\n",
      "129/129 [==============================] - 0s - loss: 0.2902     \n",
      "Epoch 2/20\n",
      "129/129 [==============================] - 0s - loss: 0.2370     \n",
      "Epoch 3/20\n",
      "129/129 [==============================] - 0s - loss: 0.2050     \n",
      "Epoch 4/20\n",
      "129/129 [==============================] - 0s - loss: 0.1812     \n",
      "Epoch 5/20\n",
      "129/129 [==============================] - 0s - loss: 0.1709     \n",
      "Epoch 6/20\n",
      "129/129 [==============================] - 0s - loss: 0.1636     \n",
      "Epoch 7/20\n",
      "129/129 [==============================] - 0s - loss: 0.1591     \n",
      "Epoch 8/20\n",
      "129/129 [==============================] - 0s - loss: 0.1560     \n",
      "Epoch 9/20\n",
      "129/129 [==============================] - 0s - loss: 0.1544     \n",
      "Epoch 10/20\n",
      "129/129 [==============================] - 0s - loss: 0.1529     \n",
      "Epoch 11/20\n",
      "129/129 [==============================] - 0s - loss: 0.1513     \n",
      "Epoch 12/20\n",
      "129/129 [==============================] - 0s - loss: 0.1505     \n",
      "Epoch 13/20\n",
      "129/129 [==============================] - 0s - loss: 0.1497     \n",
      "Epoch 14/20\n",
      "129/129 [==============================] - 0s - loss: 0.1489     \n",
      "Epoch 15/20\n",
      "129/129 [==============================] - 0s - loss: 0.1484     \n",
      "Epoch 16/20\n",
      "129/129 [==============================] - 0s - loss: 0.1471     \n",
      "Epoch 17/20\n",
      "129/129 [==============================] - 0s - loss: 0.1467     \n",
      "Epoch 18/20\n",
      "129/129 [==============================] - 0s - loss: 0.1463     \n",
      "Epoch 19/20\n",
      "129/129 [==============================] - 0s - loss: 0.1451     \n",
      "Epoch 20/20\n",
      "129/129 [==============================] - 0s - loss: 0.1446     \n",
      "Network and final validation data ready for testing.\n"
     ]
    }
   ],
   "source": [
    "%run ../game/game_model.py"
   ]
  },
  {
   "cell_type": "code",
   "execution_count": 53,
   "metadata": {},
   "outputs": [
    {
     "data": {
      "image/png": "[encoded data removed]",
      "text/plain": [
       "<matplotlib.figure.Figure at 0x11e5cb748>"
      ]
     },
     "metadata": {},
     "output_type": "display_data"
    },
    {
     "data": {
      "text/plain": [
       "None"
      ]
     },
     "metadata": {},
     "output_type": "display_data"
    }
   ],
   "source": [
    "animate_game(final_boss, n=10, mpl=True)"
   ]
  },
  {
   "cell_type": "code",
   "execution_count": 34,
   "metadata": {},
   "outputs": [],
   "source": [
    "final_boss.shift_goal((4,4))"
   ]
  },
  {
   "cell_type": "code",
   "execution_count": 42,
   "metadata": {},
   "outputs": [
    {
     "data": {
      "text/plain": [
       "<keras.models.Sequential at 0x1200652e8>"
      ]
     },
     "execution_count": 42,
     "metadata": {},
     "output_type": "execute_result"
    }
   ],
   "source": [
    "final_boss.model"
   ]
  },
  {
   "cell_type": "code",
   "execution_count": null,
   "metadata": {
    "collapsed": true
   },
   "outputs": [],
   "source": [
    "final_boss.Navigator.move(x=7, y=0, relative=False)"
   ]
  },
  {
   "cell_type": "code",
   "execution_count": 49,
   "metadata": {},
   "outputs": [
    {
     "data": {
      "text/plain": [
       "(3, 3)"
      ]
     },
     "execution_count": 49,
     "metadata": {},
     "output_type": "execute_result"
    }
   ],
   "source": [
    "final_boss.Navigator.strategy.goal"
   ]
  },
  {
   "cell_type": "code",
   "execution_count": 50,
   "metadata": {},
   "outputs": [
    {
     "name": "stdout",
     "output_type": "stream",
     "text": [
      "Prediction Test: If network does not provide differentiated\n",
      "     responses to these inputs, keep training or modify network. The piece\n",
      "    is on opposite sides of the goal here so the predicted rewards should\n",
      "    be opposites.\n",
      " Note that these outputs correspond to these actions:\n",
      " (y,x):  [(0, 0), (0, 1), (0, -1), (1, 0), (-1, 0)]\n",
      "   Position +(0, 1),  Goal (3, 3): 1\n",
      "   Position -(0, 2), Goal (3, 3): 1\n",
      "   Position +(2, 0),  Goal (3, 3): 1\n",
      "   Position -(2, 0), Goal (3, 3): 1\n",
      " 32/100 [========>.....................] - ETA: 0s\n",
      "Final game loss:  0.207447090149\n"
     ]
    }
   ],
   "source": [
    "model_benchmark(model=final_boss.Navigator.strategy.model,\n",
    "           actions=final_boss.Navigator.strategy.actions,\n",
    "           goal=final_boss.goal)\n",
    "#score = model.evaluate(final_inputs, final_targets)\n",
    "print(\"\\nFinal game loss: \", score)"
   ]
  },
  {
   "cell_type": "code",
   "execution_count": 51,
   "metadata": {},
   "outputs": [],
   "source": [
    "pl_title = '{} steps, {}, {} layer MLP'.format(steps, optimizer_str, len(layers))\n",
    "#pl_title += '\\n Final score: {}'.format(score)\n",
    "pl.plot(np.array(log.history['loss']), label=\"Training loss\")\n",
    "pl.title(pl_title)\n",
    "pl.legend()\n",
    "# pl.title(\"New Training Regime\")\n",
    "pl.savefig(\"plot.png\", dpi=300)\n",
    "pl.close('all')"
   ]
  },
  {
   "cell_type": "code",
   "execution_count": null,
   "metadata": {
    "collapsed": true
   },
   "outputs": [],
   "source": [
    "save = dict()"
   ]
  },
  {
   "cell_type": "code",
   "execution_count": null,
   "metadata": {
    "collapsed": true
   },
   "outputs": [],
   "source": [
    "save['inputs'] = inputs\n",
    "save['targets'] = targets\n",
    "save['model'] = model"
   ]
  },
  {
   "cell_type": "code",
   "execution_count": null,
   "metadata": {
    "collapsed": true
   },
   "outputs": [],
   "source": [
    "pickle.dump(save, open(\"games_256_x_256_steps_on_8x8.p\", \"wb\"))"
   ]
  },
  {
   "cell_type": "code",
   "execution_count": 10,
   "metadata": {},
   "outputs": [
    {
     "name": "stdout",
     "output_type": "stream",
     "text": [
      "[7, 5, 4, 0] [0, 0, 1, 0, 0] [[ 0.55000001  0.56        0.41999999  0.77999997  0.38      ]]\n",
      "[7, 5, 6, 2] [0, 0, 1, 0, 0] [[ 0.56        0.56999999  0.41        0.77999997  0.37      ]]\n",
      "[7, 5, 3, 6] [0, 0, 0, 0, 1] [[ 0.44999999  0.55000001  0.34999999  0.79000002  0.31999999]]\n",
      "[7, 5, 0, 7] [0, 0, 0, 0, 1] [[ 0.44        0.55000001  0.33000001  0.80000001  0.31      ]]\n",
      "[7, 5, 5, 3] [0, 0, 0, 0, 1] [[ 0.51999998  0.55000001  0.38999999  0.77999997  0.34999999]]\n",
      "[7, 5, 6, 7] [0, 1, 0, 0, 0] [[ 0.47999999  0.55000001  0.36000001  0.79000002  0.34      ]]\n",
      "[7, 5, 5, 6] [0, 0, 0, 0, 1] [[ 0.47        0.55000001  0.36000001  0.79000002  0.33000001]]\n"
     ]
    },
    {
     "ename": "IndexError",
     "evalue": "list index out of range",
     "output_type": "error",
     "traceback": [
      "\u001b[0;31m---------------------------------------------------------------------------\u001b[0m",
      "\u001b[0;31mIndexError\u001b[0m                                Traceback (most recent call last)",
      "\u001b[0;32m<ipython-input-10-6c6afbf504a5>\u001b[0m in \u001b[0;36m<module>\u001b[0;34m()\u001b[0m\n\u001b[1;32m      1\u001b[0m \u001b[0;32mfor\u001b[0m \u001b[0mi\u001b[0m \u001b[0;32min\u001b[0m \u001b[0mrange\u001b[0m\u001b[0;34m(\u001b[0m\u001b[0;36m10\u001b[0m\u001b[0;34m)\u001b[0m\u001b[0;34m:\u001b[0m\u001b[0;34m\u001b[0m\u001b[0m\n\u001b[0;32m----> 2\u001b[0;31m     \u001b[0mpredict\u001b[0m \u001b[0;34m=\u001b[0m \u001b[0mmodel\u001b[0m\u001b[0;34m.\u001b[0m\u001b[0mpredict\u001b[0m\u001b[0;34m(\u001b[0m\u001b[0mnp\u001b[0m\u001b[0;34m.\u001b[0m\u001b[0marray\u001b[0m\u001b[0;34m(\u001b[0m\u001b[0minputs\u001b[0m\u001b[0;34m[\u001b[0m\u001b[0mi\u001b[0m\u001b[0;34m*\u001b[0m\u001b[0;36m10\u001b[0m\u001b[0;34m]\u001b[0m\u001b[0;34m)\u001b[0m\u001b[0;34m.\u001b[0m\u001b[0mreshape\u001b[0m\u001b[0;34m(\u001b[0m\u001b[0;36m1\u001b[0m\u001b[0;34m,\u001b[0m \u001b[0;36m4\u001b[0m\u001b[0;34m)\u001b[0m\u001b[0;34m)\u001b[0m\u001b[0;34m\u001b[0m\u001b[0m\n\u001b[0m\u001b[1;32m      3\u001b[0m     \u001b[0mprint\u001b[0m\u001b[0;34m(\u001b[0m\u001b[0minputs\u001b[0m\u001b[0;34m[\u001b[0m\u001b[0mi\u001b[0m\u001b[0;34m*\u001b[0m\u001b[0;36m10\u001b[0m\u001b[0;34m]\u001b[0m\u001b[0;34m,\u001b[0m \u001b[0mtargets\u001b[0m\u001b[0;34m[\u001b[0m\u001b[0mi\u001b[0m\u001b[0;34m*\u001b[0m\u001b[0;36m10\u001b[0m\u001b[0;34m]\u001b[0m\u001b[0;34m,\u001b[0m \u001b[0mnp\u001b[0m\u001b[0;34m.\u001b[0m\u001b[0mround_\u001b[0m\u001b[0;34m(\u001b[0m\u001b[0mpredict\u001b[0m\u001b[0;34m,\u001b[0m \u001b[0mdecimals\u001b[0m \u001b[0;34m=\u001b[0m \u001b[0;36m2\u001b[0m\u001b[0;34m)\u001b[0m\u001b[0;34m)\u001b[0m\u001b[0;34m\u001b[0m\u001b[0m\n",
      "\u001b[0;31mIndexError\u001b[0m: list index out of range"
     ]
    }
   ],
   "source": [
    "for i in range(10):\n",
    "    predict = model.predict(np.array(inputs[i*10]).reshape(1, 4))\n",
    "    print(inputs[i*10], targets[i*10], np.round_(predict, decimals = 2))"
   ]
  },
  {
   "cell_type": "code",
   "execution_count": null,
   "metadata": {
    "collapsed": true
   },
   "outputs": [],
   "source": [
    "s = 0 \n",
    "while s < 1000:\n",
    "    s += randint(0, 500)"
   ]
  }
 ],
 "metadata": {
  "kernelspec": {
   "display_name": "Python 3",
   "language": "python",
   "name": "python3"
  },
  "language_info": {
   "codemirror_mode": {
    "name": "ipython",
    "version": 3
   },
   "file_extension": ".py",
   "mimetype": "text/x-python",
   "name": "python",
   "nbconvert_exporter": "python",
   "pygments_lexer": "ipython3",
   "version": "3.6.1"
  }
 },
 "nbformat": 4,
 "nbformat_minor": 2
}
