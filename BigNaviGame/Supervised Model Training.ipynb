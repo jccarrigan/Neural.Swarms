{
 "cells": [
  {
   "cell_type": "code",
   "execution_count": null,
   "metadata": {},
   "outputs": [],
   "source": [
    "from supervised_training import *"
   ]
  },
  {
   "cell_type": "code",
   "execution_count": null,
   "metadata": {},
   "outputs": [],
   "source": [
    "# game variables\n",
    "epochs = 10\n",
    "batch_size = 20\n",
    "learning_rate = 0.01\n",
    "steps = 7250\n",
    "# training_game_size = 8\n",
    "\n",
    "\n",
    "# number of epochs for training\n",
    "epochs = epochs\n",
    "batch_size = batch_size\n",
    "\n",
    "# learning rate\n",
    "learning_rate = learning_rate\n",
    "\n",
    "# optimizer\n",
    "optimizer = Adam()#sgd(lr=learning_rate)\n",
    "optimizer_str = \"Adam\"#\"SGD(lr = \"+str(learning_rate)+\")\"\n",
    "\n",
    "# layers\n",
    "layers = [{\"size\":10,\"activation\":\"tanh\"},\n",
    "{\"size\":10,\"activation\":\"tanh\"}]\n",
    "\n",
    "# number of steps to train on\n",
    "steps = steps\n",
    "\n",
    "# prepare the game for collecting data\n",
    "training_game = SupervisedNaviGame(40, 30)\n",
    "\n",
    "# make the model\n",
    "training_game.model = training_game.game_model(optimizer, layers)\n",
    "\n",
    "# setup the game\n",
    "training_game.setup()\n",
    "\n",
    "print(\"Generating training data\")\n",
    "# collect all data to make pickled runs!\n",
    "# stop regenerating the damn data!\n",
    "log, inputs, targets = training_game.train_model(\n",
    "            steps = steps,\n",
    "            epochs = epochs,\n",
    "            batch_size = batch_size,\n",
    "            verbose = 1,)\n",
    "# pull data points of for validation\n",
    "print(\"Network and final validation data ready for testing.\")\n",
    "    # prepare the game for final validation\n"
   ]
  },
  {
   "cell_type": "code",
   "execution_count": null,
   "metadata": {},
   "outputs": [],
   "source": [
    "val_game = SupervisedNaviGame(30, 40, model = training_game.model)\n",
    "# val_game = NaviGame(30, 40, moving_target=True)"
   ]
  },
  {
   "cell_type": "code",
   "execution_count": null,
   "metadata": {},
   "outputs": [],
   "source": [
    "val_game.setup()"
   ]
  },
  {
   "cell_type": "code",
   "execution_count": null,
   "metadata": {},
   "outputs": [],
   "source": [
    "animate_game(val_game, n = 100, save = True)"
   ]
  },
  {
   "cell_type": "code",
   "execution_count": null,
   "metadata": {},
   "outputs": [],
   "source": [
    "from os import listdir\n",
    "from os.path import isfile, join\n",
    "mypath = \"images/\"\n",
    "filenames = [f for f in listdir(mypath) if isfile(join(mypath, f))]\n",
    "\n",
    "import imageio\n",
    "images = []\n",
    "for filename in filenames[1:]:\n",
    "    images.append(imageio.imread(filename))\n",
    "imageio.mimsave('trained_supervised_2.gif', images)"
   ]
  },
  {
   "cell_type": "code",
   "execution_count": null,
   "metadata": {},
   "outputs": [],
   "source": [
    "filenames[1:]"
   ]
  },
  {
   "cell_type": "code",
   "execution_count": null,
   "metadata": {},
   "outputs": [],
   "source": [
    "# training_game.model.save(\"too_good_supervised_model.h5\")"
   ]
  },
  {
   "cell_type": "code",
   "execution_count": null,
   "metadata": {
    "collapsed": true
   },
   "outputs": [],
   "source": []
  }
 ],
 "metadata": {
  "kernelspec": {
   "display_name": "Python 3",
   "language": "python",
   "name": "python3"
  },
  "language_info": {
   "codemirror_mode": {
    "name": "ipython",
    "version": 3
   },
   "file_extension": ".py",
   "mimetype": "text/x-python",
   "name": "python",
   "nbconvert_exporter": "python",
   "pygments_lexer": "ipython3",
   "version": "3.6.1"
  }
 },
 "nbformat": 4,
 "nbformat_minor": 2
}
