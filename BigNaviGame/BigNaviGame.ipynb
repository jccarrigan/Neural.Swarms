{
 "cells": [
  {
   "cell_type": "code",
   "execution_count": 1,
   "metadata": {
    "scrolled": true
   },
   "outputs": [
    {
     "name": "stderr",
     "output_type": "stream",
     "text": [
      "Using Theano backend.\n"
     ]
    }
   ],
   "source": [
    "from reinforcement_training import *\n",
    "from notebook_game_helper import *"
   ]
  },
  {
   "cell_type": "code",
   "execution_count": 2,
   "metadata": {},
   "outputs": [],
   "source": [
    "training_game_size_x = 40\n",
    "training_game_size_y = 30\n",
    "\n",
    "layers = 3\n",
    "neurons = 120\n",
    "layer = {\"size\":neurons,\"activation\":\"tanh\"}\n",
    "hiddens = [layer for i in range(layers)]    # make an optimizer\n",
    "from keras.optimizers import sgd, RMSprop, Adagrad, Adadelta, Adam\n",
    "# note to self: DON'T CHANGE THIS UNTIL YOU KNOW WE'RE LEARNING SOMETHING\n",
    "# optimizer = sgd(lr = 0.0001)\n",
    "# optimizer_str = \"SGD\"\n",
    "# optimizer = Adagrad()\n",
    "# optimizer_str = \"Adagrad\"\n",
    "# optimizer = RMSprop()\n",
    "# optimizer_str = \"RMSprop\"\n",
    "optimizer = Adadelta()\n",
    "optimizer_str = \"Adadelta\"\n",
    "# optimizer = Adam()\n",
    "# optimizer_str = \"Adam\"\n",
    "model = baseline_model(optimizer, hiddens)\n",
    "# prepare the game for training model\n",
    "training_game = ReinforcementNaviGame(training_game_size_y,\n",
    "                                training_game_size_x,\n",
    "                                model,\n",
    "                                tolerance = 10)\n",
    "training_game.setup()"
   ]
  },
  {
   "cell_type": "code",
   "execution_count": null,
   "metadata": {},
   "outputs": [],
   "source": [
    "animate_game(training_game, 10)"
   ]
  },
  {
   "cell_type": "code",
   "execution_count": null,
   "metadata": {},
   "outputs": [],
   "source": [
    "training_game.Navigator.move(x = 19, y = 14)"
   ]
  },
  {
   "cell_type": "code",
   "execution_count": null,
   "metadata": {},
   "outputs": [
    {
     "name": "stderr",
     "output_type": "stream",
     "text": [
      "Episode 1781, Replay Loss: 0.0839:  36%|███▌      | 1782/5000 [02:38<05:01, 10.66it/s]]]"
     ]
    }
   ],
   "source": [
    "training_episodes = 5000\n",
    "steps = 10\n",
    "\n",
    "output = train_model(game = training_game,\n",
    "                model = model,\n",
    "                episodes = training_episodes,\n",
    "                steps = steps)"
   ]
  },
  {
   "cell_type": "code",
   "execution_count": null,
   "metadata": {},
   "outputs": [],
   "source": [
    "# plot learning info\n",
    "title_str = str(training_game_size_y) + \"x\" + str(training_game_size_x) + \" with \"\n",
    "title_str += str(training_episodes) + \" episodes, \" + str(steps) + \" steps per episode, & \"\n",
    "title_str += str(len(hiddens)) + \" hidden layers, optimized with \" + optimizer_str + \"\\n\"\n",
    "f, axarr = pl.subplots(3, 1, figsize = (10, 15), dpi = 300)\n",
    "# f.canvas.set_window_title(\"RL Loss, 100 eps w/ 50 steps, Look: 20\")\n",
    "mean_step = 10\n",
    "num_means = int(len(output['distances'])/mean_step/steps)\n",
    "\n",
    "for _, k in enumerate([10, 100, 500]):\n",
    "    mean_step = k\n",
    "    mean_rewards = []\n",
    "    mean_dists = []\n",
    "    mean_loss = []\n",
    "    num_means = int(len(output['distances'])/mean_step/steps)\n",
    "    steps_per_mean = steps*mean_step\n",
    "    x = np.linspace(0, training_episodes, num_means)\n",
    "    for i in range(num_means):\n",
    "        mean_r = 0\n",
    "        mean_d = 0\n",
    "        mean_l = 0\n",
    "        for j in range(steps_per_mean):\n",
    "            mean_r += output['rewards'][j + i * steps_per_mean]\n",
    "            mean_d += output['distances'][j + i * steps_per_mean]\n",
    "            mean_l += output['loss'][j + i * steps_per_mean]\n",
    "        mean_r = mean_r / steps_per_mean\n",
    "        mean_d = mean_d / steps_per_mean\n",
    "        mean_l = mean_l / steps_per_mean\n",
    "        mean_rewards.append(mean_r)\n",
    "        mean_dists.append(mean_d)\n",
    "        mean_loss.append(mean_l)\n",
    "    label = str(mean_step) + \" Episodes\"\n",
    "    axarr[0].plot(x, mean_loss, label = label)\n",
    "    axarr[1].plot(x, mean_dists, label = label)\n",
    "    axarr[2].plot(x, mean_rewards, label = label)\n",
    "\n",
    "axarr[0].grid(True)\n",
    "axarr[0].set_title(title_str + 'Mean Loss')\n",
    "axarr[1].grid(True)\n",
    "axarr[1].set_title('Mean Distances from Goal')\n",
    "axarr[2].grid(True)\n",
    "axarr[2].set_title('Mean Rewards')\n",
    "f.subplots_adjust(hspace=0.2)\n",
    "\n",
    "file_str = str(training_game_size_y) + \"x\" + str(training_game_size_x) + \"_\"\n",
    "file_str += str(training_episodes) + \"_\" + str(steps) + \"_\" + str(len(hiddens))\n",
    "file_str += \"_\" + str(neurons) + \"_neurons_\"+ optimizer_str\n",
    "pl.legend()\n",
    "pl.plot()\n",
    "# pl.savefig(\"rl_plots\" + file_str + \".png\")\n",
    "pl.show()\n"
   ]
  },
  {
   "cell_type": "code",
   "execution_count": null,
   "metadata": {
    "collapsed": true
   },
   "outputs": [],
   "source": []
  }
 ],
 "metadata": {
  "kernelspec": {
   "display_name": "Python 3",
   "language": "python",
   "name": "python3"
  },
  "language_info": {
   "codemirror_mode": {
    "name": "ipython",
    "version": 3
   },
   "file_extension": ".py",
   "mimetype": "text/x-python",
   "name": "python",
   "nbconvert_exporter": "python",
   "pygments_lexer": "ipython3",
   "version": "3.6.1"
  }
 },
 "nbformat": 4,
 "nbformat_minor": 2
}
