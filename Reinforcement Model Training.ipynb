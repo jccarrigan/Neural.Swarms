{
 "cells": [
  {
   "cell_type": "code",
   "execution_count": 6,
   "metadata": {},
   "outputs": [],
   "source": [
    "from reinforcement_navigame_model import *\n",
    "from notebook_game_helper import *"
   ]
  },
  {
   "cell_type": "code",
   "execution_count": 7,
   "metadata": {},
   "outputs": [
    {
     "name": "stdout",
     "output_type": "stream",
     "text": [
      "Generating training data\n",
      "Data generated, now fitting network\n",
      "Epoch 1/20\n",
      "6000/6000 [==============================] - 3s - loss: 16.6731      ETA: 0s - loss: 16.\n",
      "Epoch 2/20\n",
      "6000/6000 [==============================] - 2s - loss: 16.6674     \n",
      "Epoch 3/20\n",
      "6000/6000 [==============================] - 2s - loss: 16.6672     \n",
      "Epoch 4/20\n",
      "6000/6000 [==============================] - 2s - loss: 16.6672      E - ETA: 1s\n",
      "Epoch 5/20\n",
      "6000/6000 [==============================] - 2s - loss: 16.6671      ETA - ETA: 0s - l\n",
      "Epoch 6/20\n",
      "6000/6000 [==============================] - 2s - loss: 16.6671     \n",
      "Epoch 7/20\n",
      "6000/6000 [==============================] - 2s - loss: 16.6671      ETA - ETA: 0s - los\n",
      "Epoch 8/20\n",
      "6000/6000 [==============================] - 2s - loss: 16.6671     \n",
      "Epoch 9/20\n",
      "6000/6000 [==============================] - 2s - loss: 16.6671      ETA: 0s - loss: 16. -\n",
      "Epoch 10/20\n",
      "6000/6000 [==============================] - 2s - loss: 16.6671      ETA: 1s - loss: 16.35 - ETA: \n",
      "Epoch 11/20\n",
      "6000/6000 [==============================] - 2s - loss: 16.6671      E - ETA: 0s - loss: 16. - ETA: 0s - loss: 16.67 - ETA: 0s -\n",
      "Epoch 12/20\n",
      "6000/6000 [==============================] - 2s - loss: 16.6670      ETA: 1s - loss: 16.68 - ETA:  - ETA: \n",
      "Epoch 13/20\n",
      "6000/6000 [==============================] - 3s - loss: 16.6670     \n",
      "Epoch 14/20\n",
      "6000/6000 [==============================] - 3s - loss: 16.6670      ETA: 0s - loss: 1\n",
      "Epoch 15/20\n",
      "6000/6000 [==============================] - 3s - loss: 16.6670      ETA: 2s - - ETA:  - ETA: 0s - los - ETA: 0s - - ETA: 0s - los\n",
      "Epoch 16/20\n",
      "6000/6000 [==============================] - 2s - loss: 16.6670     \n",
      "Epoch 17/20\n",
      "6000/6000 [==============================] - 4s - loss: 16.6670     \n",
      "Epoch 18/20\n",
      "6000/6000 [==============================] - 5s - loss: 16.6670     \n",
      "Epoch 19/20\n",
      "6000/6000 [==============================] - 5s - loss: 16.6670     \n",
      "Epoch 20/20\n",
      "6000/6000 [==============================] - 4s - loss: 16.6670      ETA: 1s\n",
      "Network and final validation data ready for testing.\n"
     ]
    }
   ],
   "source": [
    "model0 = main(20, 1, 0.05, 6000, 8)"
   ]
  },
  {
   "cell_type": "code",
   "execution_count": 8,
   "metadata": {
    "collapsed": true
   },
   "outputs": [],
   "source": [
    "val_game = NeuralNaviGame(8, 8, model = model0, model_type = \"reinforcement\", moving_target = True)"
   ]
  },
  {
   "cell_type": "code",
   "execution_count": 9,
   "metadata": {
    "collapsed": true
   },
   "outputs": [],
   "source": [
    "val_game.setup()"
   ]
  },
  {
   "cell_type": "code",
   "execution_count": 10,
   "metadata": {},
   "outputs": [
    {
     "data": {
      "image/png": "[encoded data removed]",
      "text/plain": [
       "<matplotlib.figure.Figure at 0x11b788d30>"
      ]
     },
     "metadata": {},
     "output_type": "display_data"
    },
    {
     "data": {
      "text/plain": [
       "None"
      ]
     },
     "metadata": {},
     "output_type": "display_data"
    }
   ],
   "source": [
    "animate_game(val_game, n = 20)"
   ]
  },
  {
   "cell_type": "code",
   "execution_count": 33,
   "metadata": {
    "collapsed": true
   },
   "outputs": [],
   "source": [
    "val_game.shift_goal()"
   ]
  },
  {
   "cell_type": "code",
   "execution_count": 6,
   "metadata": {},
   "outputs": [
    {
     "data": {
      "text/plain": [
       "True"
      ]
     },
     "execution_count": 6,
     "metadata": {},
     "output_type": "execute_result"
    }
   ],
   "source": [
    "val_game.goal == val_game.Navigator.strategy.goal"
   ]
  },
  {
   "cell_type": "code",
   "execution_count": 7,
   "metadata": {},
   "outputs": [
    {
     "data": {
      "text/plain": [
       "3"
      ]
     },
     "execution_count": 7,
     "metadata": {},
     "output_type": "execute_result"
    }
   ],
   "source": [
    "val_game.Navigator.strategy.plan_movement()"
   ]
  },
  {
   "cell_type": "code",
   "execution_count": 8,
   "metadata": {},
   "outputs": [
    {
     "data": {
      "text/plain": [
       "array([[ 0.01415345]], dtype=float32)"
      ]
     },
     "execution_count": 8,
     "metadata": {},
     "output_type": "execute_result"
    }
   ],
   "source": [
    "val_game.Navigator.strategy.model.predict(np.array([0, 9, 0, 0]).reshape(1,4))"
   ]
  },
  {
   "cell_type": "code",
   "execution_count": 9,
   "metadata": {},
   "outputs": [
    {
     "data": {
      "text/plain": [
       "array([[ 0.01730681]], dtype=float32)"
      ]
     },
     "execution_count": 9,
     "metadata": {},
     "output_type": "execute_result"
    }
   ],
   "source": [
    "val_game.Navigator.strategy.model.predict(np.array([0, 8, 0, 0]).reshape(1,4))"
   ]
  },
  {
   "cell_type": "code",
   "execution_count": null,
   "metadata": {
    "collapsed": true
   },
   "outputs": [],
   "source": []
  }
 ],
 "metadata": {
  "kernelspec": {
   "display_name": "Python 3",
   "language": "python",
   "name": "python3"
  },
  "language_info": {
   "codemirror_mode": {
    "name": "ipython",
    "version": 3
   },
   "file_extension": ".py",
   "mimetype": "text/x-python",
   "name": "python",
   "nbconvert_exporter": "python",
   "pygments_lexer": "ipython3",
   "version": "3.6.1"
  }
 },
 "nbformat": 4,
 "nbformat_minor": 2
}
