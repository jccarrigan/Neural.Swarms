{
 "cells": [
  {
   "cell_type": "code",
   "execution_count": 80,
   "metadata": {},
   "outputs": [],
   "source": [
    "from reinforcement_navigame_model import *\n",
    "from notebook_game_helper import *"
   ]
  },
  {
   "cell_type": "code",
   "execution_count": 81,
   "metadata": {},
   "outputs": [
    {
     "name": "stdout",
     "output_type": "stream",
     "text": [
      "Training model\n",
      "Episode 0 loss: 3.4449656009674072\n",
      "Episode 1 loss: 3.4752750396728516\n",
      "Episode 2 loss: 3.470937490463257\n",
      "Episode 3 loss: 3.4239120483398438\n",
      "Episode 4 loss: 3.145753860473633\n",
      "Episode 5 loss: 3.1718807220458984\n",
      "Episode 6 loss: 3.188370704650879\n",
      "Episode 7 loss: 3.4104974269866943\n",
      "Episode 8 loss: 3.414416551589966\n",
      "Episode 9 loss: 3.4058456420898438\n",
      "Episode 10 loss: 3.397193670272827\n",
      "Episode 11 loss: 3.3902475833892822\n",
      "Episode 12 loss: 3.379537582397461\n",
      "Episode 13 loss: 3.374206781387329\n",
      "Episode 14 loss: 3.3545050621032715\n",
      "Episode 15 loss: 3.352482557296753\n",
      "Episode 16 loss: 3.345128059387207\n",
      "Episode 17 loss: 3.3340442180633545\n",
      "Episode 18 loss: 3.3217530250549316\n",
      "Episode 19 loss: 3.312162160873413\n",
      "Episode 20 loss: 3.3058524131774902\n",
      "Episode 21 loss: 3.30000376701355\n",
      "Episode 22 loss: 3.2835497856140137\n",
      "Episode 23 loss: 3.2757558822631836\n",
      "Episode 24 loss: 3.2679073810577393\n",
      "Episode 25 loss: 3.259594202041626\n",
      "Episode 26 loss: 3.2492504119873047\n",
      "Episode 27 loss: 3.241128444671631\n",
      "Episode 28 loss: 3.205688238143921\n",
      "Episode 29 loss: 3.1488497257232666\n",
      "Episode 30 loss: 3.1635923385620117\n",
      "Episode 31 loss: 3.179408550262451\n",
      "Episode 32 loss: 3.1920230388641357\n",
      "Episode 33 loss: 3.1796326637268066\n",
      "Episode 34 loss: 3.1498911380767822\n",
      "Episode 35 loss: 3.160731315612793\n",
      "Episode 36 loss: 3.1461522579193115\n",
      "Episode 37 loss: 3.0930609703063965\n",
      "Episode 38 loss: 3.0503299236297607\n",
      "Episode 39 loss: 2.9694297313690186\n",
      "Episode 40 loss: 2.9155890941619873\n",
      "Episode 41 loss: 2.9149019718170166\n",
      "Episode 42 loss: 2.963440179824829\n",
      "Episode 43 loss: 3.054250478744507\n",
      "Episode 44 loss: 3.069822072982788\n",
      "Episode 45 loss: 2.9852817058563232\n",
      "Episode 46 loss: 2.9717049598693848\n",
      "Episode 47 loss: 2.949198007583618\n",
      "Episode 48 loss: 2.9545536041259766\n",
      "Episode 49 loss: 2.8691418170928955\n"
     ]
    }
   ],
   "source": [
    "model0, log = main(training_episodes = 50)"
   ]
  },
  {
   "cell_type": "code",
   "execution_count": 82,
   "metadata": {},
   "outputs": [],
   "source": [
    "val_game = NeuralNaviGame(8, 8, model = model0, moving_target = True)"
   ]
  },
  {
   "cell_type": "code",
   "execution_count": 83,
   "metadata": {
    "collapsed": true
   },
   "outputs": [],
   "source": [
    "val_game.setup()"
   ]
  },
  {
   "cell_type": "code",
   "execution_count": 84,
   "metadata": {},
   "outputs": [
    {
     "data": {
      "image/png": "[encoded data removed]",
      "text/plain": [
       "<matplotlib.figure.Figure at 0x107065400>"
      ]
     },
     "metadata": {},
     "output_type": "display_data"
    },
    {
     "data": {
      "text/plain": [
       "None"
      ]
     },
     "metadata": {},
     "output_type": "display_data"
    }
   ],
   "source": [
    "animate_game(val_game, n = 10)"
   ]
  },
  {
   "cell_type": "code",
   "execution_count": 78,
   "metadata": {
    "collapsed": true
   },
   "outputs": [],
   "source": [
    "val_game.shift_goal()"
   ]
  },
  {
   "cell_type": "code",
   "execution_count": 8,
   "metadata": {},
   "outputs": [
    {
     "data": {
      "text/plain": [
       "True"
      ]
     },
     "execution_count": 8,
     "metadata": {},
     "output_type": "execute_result"
    }
   ],
   "source": [
    "val_game.goal == val_game.Navigator.strategy.goal"
   ]
  },
  {
   "cell_type": "code",
   "execution_count": 9,
   "metadata": {},
   "outputs": [
    {
     "data": {
      "text/plain": [
       "4"
      ]
     },
     "execution_count": 9,
     "metadata": {},
     "output_type": "execute_result"
    }
   ],
   "source": [
    "val_game.Navigator.strategy.plan_movement()"
   ]
  },
  {
   "cell_type": "code",
   "execution_count": 10,
   "metadata": {},
   "outputs": [
    {
     "data": {
      "text/plain": [
       "array([[ 0.22231096]], dtype=float32)"
      ]
     },
     "execution_count": 10,
     "metadata": {},
     "output_type": "execute_result"
    }
   ],
   "source": [
    "val_game.Navigator.strategy.model.predict(np.array([0, 9, 0, 0]).reshape(1,4))"
   ]
  },
  {
   "cell_type": "code",
   "execution_count": 11,
   "metadata": {},
   "outputs": [
    {
     "data": {
      "text/plain": [
       "array([[ 0.21103056]], dtype=float32)"
      ]
     },
     "execution_count": 11,
     "metadata": {},
     "output_type": "execute_result"
    }
   ],
   "source": [
    "val_game.Navigator.strategy.model.predict(np.array([0, 8, 0, 0]).reshape(1,4))"
   ]
  },
  {
   "cell_type": "code",
   "execution_count": null,
   "metadata": {
    "collapsed": true
   },
   "outputs": [],
   "source": []
  }
 ],
 "metadata": {
  "kernelspec": {
   "display_name": "Python 3",
   "language": "python",
   "name": "python3"
  },
  "language_info": {
   "codemirror_mode": {
    "name": "ipython",
    "version": 3
   },
   "file_extension": ".py",
   "mimetype": "text/x-python",
   "name": "python",
   "nbconvert_exporter": "python",
   "pygments_lexer": "ipython3",
   "version": "3.6.1"
  }
 },
 "nbformat": 4,
 "nbformat_minor": 2
}
